{
 "cells": [
  {
   "cell_type": "markdown",
   "id": "bdf5e187",
   "metadata": {},
   "source": [
    "# Task-1:- Simulate a quiz comprising multiple-choise Question."
   ]
  },
  {
   "cell_type": "markdown",
   "id": "355d4ae7",
   "metadata": {},
   "source": [
    "-- Write a python code to simulate a MCQ quiz comprising 10 Questions."
   ]
  },
  {
   "cell_type": "code",
   "execution_count": 10,
   "id": "28424295",
   "metadata": {},
   "outputs": [
    {
     "name": "stdout",
     "output_type": "stream",
     "text": [
      "Number of Continents on Earth\n",
      "1:Seven 2:Four 3:Five 4:Six\n",
      "Enter the option between 1 and 4:1\n",
      "Which country successfully landed a man on moon\n",
      "1:USA 2:Germany 3:France 4:England\n",
      "Enter the option between 1 and 4:1\n",
      "Which country is not present in the continent of North America\n",
      "1:Mexico 2:USA 3:Cannada 4:Brazil\n",
      "Enter the option between 1 and 4:4\n",
      "Which is the American National Bird\n",
      "1:Parrot 2:Crane 3:Eagle 4:Swan\n",
      "Enter the option between 1 and 4:3\n",
      "Which country shares the longest border with USA\n",
      "1:Mexico 2:Brazil 3:Cannada 4:Argentina\n",
      "Enter the option between 1 and 4:3\n",
      "Which is the financial capital of USA\n",
      "1:Sanfrancisco 2:Boston 3:Los Angeles 4:NYC\n",
      "Enter the option between 1 and 4:4\n",
      "Which of the following space agencies belongs to the USA\n",
      "1:BNSC 2:ISRO 3:DLR 4:NASA\n",
      "Enter the option between 1 and 4:4\n",
      "Which is the second most spoken language in USA\n",
      "1:English 2:Spanish 3:Mandarin 4:Italian\n",
      "Enter the option between 1 and 4:2\n",
      "Which is the capital city of USA\n",
      "1:NYC 2:Washington DC 3:Austin 4:San Jose\n",
      "Enter the option between 1 and 4:2\n",
      "Mt Rushmore has the sclupture of\n",
      "1:Former US Presidents 2:Hollywood stars 3:Military Personel 4:Scientists\n",
      "Enter the option between 1 and 4:1\n",
      "total marks are: 20\n"
     ]
    }
   ],
   "source": [
    "Q=[\"Number of Continents on Earth\", \n",
    "   \"Which country successfully landed a man on moon\",\n",
    "    \"Which country is not present in the continent of North America\",\n",
    "   \"Which is the American National Bird\",\n",
    "   \"Which country shares the longest border with USA\",\n",
    "   \"Which is the financial capital of USA\",\n",
    "   \"Which of the following space agencies belongs to the USA\",\n",
    "   \"Which is the second most spoken language in USA\",\n",
    "   \"Which is the capital city of USA\",\n",
    "   \"Mt Rushmore has the sclupture of\"]\n",
    "A= [\"1:Seven 2:Four 3:Five 4:Six\",\n",
    "   \"1:USA 2:Germany 3:France 4:England\",\n",
    "   \"1:Mexico 2:USA 3:Cannada 4:Brazil\",\n",
    "   \"1:Parrot 2:Crane 3:Eagle 4:Swan\",\n",
    "   \"1:Mexico 2:Brazil 3:Cannada 4:Argentina\",\n",
    "   \"1:Sanfrancisco 2:Boston 3:Los Angeles 4:NYC\",\n",
    "   \"1:BNSC 2:ISRO 3:DLR 4:NASA\",\n",
    "   \"1:English 2:Spanish 3:Mandarin 4:Italian\",\n",
    "   \"1:NYC 2:Washington DC 3:Austin 4:San Jose\",\n",
    "   \"1:Former US Presidents 2:Hollywood stars 3:Military Personel 4:Scientists\"]\n",
    "CA = [1,1,4,3,3,4,4,2,2,1] \n",
    "marks=0\n",
    "for i in range(len(Q)):\n",
    "    print(Q[i])\n",
    "    print(A[i])\n",
    "    ans = input(\"Enter the option between 1 and 4:\")\n",
    "    \n",
    "    if int(ans)in [1,2,3,4]:\n",
    "        if int(ans)==CA[i]:\n",
    "            marks+=2\n",
    "        else:\n",
    "            marks-=1\n",
    "    else:\n",
    "        print('wrong answer you got zero marks for this question')\n",
    "        print()\n",
    "print('total marks are:',marks)\n"
   ]
  },
  {
   "cell_type": "code",
   "execution_count": 1,
   "id": "631da0ff",
   "metadata": {},
   "outputs": [
    {
     "name": "stdout",
     "output_type": "stream",
     "text": [
      "enter a num2\n"
     ]
    },
    {
     "data": {
      "text/plain": [
       "2"
      ]
     },
     "execution_count": 1,
     "metadata": {},
     "output_type": "execute_result"
    }
   ],
   "source": [
    "int(input('enter a num'))"
   ]
  },
  {
   "cell_type": "code",
   "execution_count": null,
   "id": "993fa918",
   "metadata": {},
   "outputs": [],
   "source": []
  }
 ],
 "metadata": {
  "kernelspec": {
   "display_name": "Python 3 (ipykernel)",
   "language": "python",
   "name": "python3"
  },
  "language_info": {
   "codemirror_mode": {
    "name": "ipython",
    "version": 3
   },
   "file_extension": ".py",
   "mimetype": "text/x-python",
   "name": "python",
   "nbconvert_exporter": "python",
   "pygments_lexer": "ipython3",
   "version": "3.9.13"
  }
 },
 "nbformat": 4,
 "nbformat_minor": 5
}
